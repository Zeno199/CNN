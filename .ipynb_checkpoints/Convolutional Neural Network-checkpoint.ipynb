{
 "cells": [
  {
   "cell_type": "code",
   "execution_count": null,
   "metadata": {
    "collapsed": true
   },
   "outputs": [],
   "source": [
    "import _pickle as cPickle"
   ]
  },
  {
   "cell_type": "code",
   "execution_count": null,
   "metadata": {
    "collapsed": true
   },
   "outputs": [],
   "source": [
    "import numpy as np\n",
    "import tensorflow as tf\n",
    "import matplotlib.pyplot as plt\n",
    "import os\n",
    "%matplotlib inline"
   ]
  },
  {
   "cell_type": "code",
   "execution_count": null,
   "metadata": {
    "collapsed": false
   },
   "outputs": [],
   "source": [
    "save_dir = 'checkpoints_cifar/'\n",
    "if not os.path.exists(save_dir):\n",
    "        os.makedirs(save_dir)\n",
    "save_path = os.path.join(save_dir, 'cifar10_cnn')"
   ]
  },
  {
   "cell_type": "code",
   "execution_count": null,
   "metadata": {
    "collapsed": true
   },
   "outputs": [],
   "source": [
    "def unpickle(file):\n",
    "    with open(file, mode='rb') as file1:\n",
    "        data = cPickle.load(file1, encoding='bytes')\n",
    "\n",
    "    return data"
   ]
  },
  {
   "cell_type": "code",
   "execution_count": null,
   "metadata": {
    "collapsed": true
   },
   "outputs": [],
   "source": [
    "data_batch1 = {}\n",
    "data_batch2 = {}\n",
    "data_batch3 = {}\n",
    "data_batch4 = {}\n",
    "data_batch5 = {}"
   ]
  },
  {
   "cell_type": "code",
   "execution_count": null,
   "metadata": {
    "collapsed": true
   },
   "outputs": [],
   "source": [
    "data_batch1 = unpickle('cifar-10-batches-py/data_batch_1')\n",
    "data_batch2 = unpickle('cifar-10-batches-py/data_batch_2')\n",
    "data_batch3 = unpickle('cifar-10-batches-py/data_batch_3')\n",
    "data_batch4 = unpickle('cifar-10-batches-py/data_batch_4')\n",
    "data_batch5 = unpickle('cifar-10-batches-py/data_batch_5')"
   ]
  },
  {
   "cell_type": "code",
   "execution_count": null,
   "metadata": {
    "collapsed": true
   },
   "outputs": [],
   "source": [
    "train =  {}"
   ]
  },
  {
   "cell_type": "code",
   "execution_count": null,
   "metadata": {
    "collapsed": true
   },
   "outputs": [],
   "source": [
    "def concate_data(data1 ,data2):\n",
    "    \n",
    "    concated = np.concatenate((data1, data2), axis = 0)\n",
    "    return concated"
   ]
  },
  {
   "cell_type": "code",
   "execution_count": null,
   "metadata": {
    "collapsed": false
   },
   "outputs": [],
   "source": [
    "train_data = concate_data(data_batch1[b'data'], data_batch2[b'data'])\n",
    "train_data = concate_data(train_data, data_batch3[b'data'])\n",
    "train_data = concate_data(train_data, data_batch4[b'data'])\n",
    "train_data = concate_data(train_data, data_batch5[b'data'])"
   ]
  },
  {
   "cell_type": "code",
   "execution_count": 10,
   "metadata": {
    "collapsed": false
   },
   "outputs": [],
   "source": [
    "train_data_lables = concate_data(data_batch1[b'labels'], data_batch2[b'labels'])\n",
    "train_data_lables = concate_data(train_data_lables, data_batch3[b'labels'])\n",
    "train_data_lables = concate_data(train_data_lables, data_batch4[b'labels'])\n",
    "train_data_lables = concate_data(train_data_lables, data_batch5[b'labels'])"
   ]
  },
  {
   "cell_type": "code",
   "execution_count": 11,
   "metadata": {
    "collapsed": false
   },
   "outputs": [],
   "source": [
    "train['data'] = train_data\n",
    "train['lables'] = train_data_lables"
   ]
  },
  {
   "cell_type": "code",
   "execution_count": 12,
   "metadata": {
    "collapsed": true
   },
   "outputs": [],
   "source": [
    "test_batch = unpickle('cifar-10-batches-py/test_batch')\n",
    "\n",
    "test_label = []\n",
    "for i in test_batch[b'labels']  :\n",
    "    blabel = np.array([ 0.,  0.,  0.,  0.,  0.,  0.,  0.,  0.,  0.,  0.])\n",
    "    blabel[i] = 1.\n",
    "    test_label.append(blabel)"
   ]
  },
  {
   "cell_type": "code",
   "execution_count": 13,
   "metadata": {
    "collapsed": false
   },
   "outputs": [],
   "source": [
    "data_label = []\n",
    "for i in train['lables']:\n",
    "    blabel = np.array([ 0.,  0.,  0.,  0.,  0.,  0.,  0.,  0.,  0.,  0.])\n",
    "    blabel[i] = 1.\n",
    "    data_label.append(blabel)"
   ]
  },
  {
   "cell_type": "code",
   "execution_count": 14,
   "metadata": {
    "collapsed": false
   },
   "outputs": [
    {
     "data": {
      "text/plain": [
       "(50000, 3072)"
      ]
     },
     "execution_count": 14,
     "metadata": {},
     "output_type": "execute_result"
    }
   ],
   "source": [
    "train['data'].shape"
   ]
  },
  {
   "cell_type": "code",
   "execution_count": 15,
   "metadata": {
    "collapsed": true
   },
   "outputs": [],
   "source": [
    "data_x = train['data'] "
   ]
  },
  {
   "cell_type": "code",
   "execution_count": 16,
   "metadata": {
    "collapsed": true
   },
   "outputs": [],
   "source": [
    "data_label = np.array(data_label)\n",
    "test_label = np.array(test_label)"
   ]
  },
  {
   "cell_type": "code",
   "execution_count": 17,
   "metadata": {
    "collapsed": false
   },
   "outputs": [
    {
     "data": {
      "text/plain": [
       "(10000, 10)"
      ]
     },
     "execution_count": 17,
     "metadata": {},
     "output_type": "execute_result"
    }
   ],
   "source": [
    "test_label.shape"
   ]
  },
  {
   "cell_type": "code",
   "execution_count": 18,
   "metadata": {
    "collapsed": false
   },
   "outputs": [],
   "source": [
    "y_ = tf.placeholder(tf.float32, shape=[None, 10])"
   ]
  },
  {
   "cell_type": "code",
   "execution_count": 19,
   "metadata": {
    "collapsed": true
   },
   "outputs": [],
   "source": [
    "def L2_regulazier(w_var):\n",
    "\n",
    "    regulazier = sum([tf.nn.l2_loss(w) for w in w_var])\n",
    "    with tf.Session() as sess:\n",
    "        sess.run(tf.global_variables_initializer())\n",
    "        #print(regulazier.eval())\n",
    "    return regulazier"
   ]
  },
  {
   "cell_type": "code",
   "execution_count": 20,
   "metadata": {
    "collapsed": true
   },
   "outputs": [],
   "source": [
    "def weight_variable(shape):\n",
    "  initial = tf.truncated_normal(shape, stddev=0.1)\n",
    "  return tf.Variable(initial)\n",
    "\n",
    "def bias_variable(shape):\n",
    "  initial = tf.constant(0.1, shape=shape)\n",
    "  return tf.Variable(initial,)"
   ]
  },
  {
   "cell_type": "code",
   "execution_count": 21,
   "metadata": {
    "collapsed": true
   },
   "outputs": [],
   "source": [
    "def conv2d(x, W):\n",
    "  return tf.nn.conv2d(x, W, strides=[1, 1, 1, 1], padding='SAME')\n",
    "\n",
    "def max_pool_2x2(x):\n",
    "  return tf.nn.max_pool(x, ksize=[1, 2, 2, 1],\n",
    "                        strides=[1, 2, 2, 1], padding='SAME')"
   ]
  },
  {
   "cell_type": "code",
   "execution_count": 22,
   "metadata": {
    "collapsed": false
   },
   "outputs": [],
   "source": [
    "var = []\n",
    "\n",
    "tf.reset_default_graph()\n",
    "with tf.Session() as sess:\n",
    "    saver = tf.train.import_meta_graph('checkpoints/cifar10_cnn.meta')\n",
    "    saver.restore(sess, tf.train.latest_checkpoint('checkpoints'))\n",
    "    sess.run(tf.global_variables_initializer())\n",
    "    all_vars = tf.trainable_variables()\n",
    "    for v in all_vars:\n",
    "        #print(\"%s with value %s\" % (v.name, len(sess.run(v))))\n",
    "        var.append(sess.run(v))"
   ]
  },
  {
   "cell_type": "code",
   "execution_count": 23,
   "metadata": {
    "collapsed": false
   },
   "outputs": [
    {
     "data": {
      "text/plain": [
       "(5, 5, 64, 128)"
      ]
     },
     "execution_count": 23,
     "metadata": {},
     "output_type": "execute_result"
    }
   ],
   "source": [
    "var[2].shape"
   ]
  },
  {
   "cell_type": "code",
   "execution_count": 24,
   "metadata": {
    "collapsed": true
   },
   "outputs": [],
   "source": [
    "img_size = 32\n",
    "num_channels = 3"
   ]
  },
  {
   "cell_type": "code",
   "execution_count": 25,
   "metadata": {
    "collapsed": false
   },
   "outputs": [],
   "source": [
    "x  = tf.placeholder(tf.float32, [None, 3072])"
   ]
  },
  {
   "cell_type": "code",
   "execution_count": 26,
   "metadata": {
    "collapsed": false
   },
   "outputs": [],
   "source": [
    "images = tf.reshape(x, [-1, img_size, img_size, num_channels])\n",
    "#images = pre_process(images=images, training=True)"
   ]
  },
  {
   "cell_type": "code",
   "execution_count": 27,
   "metadata": {
    "collapsed": true
   },
   "outputs": [],
   "source": [
    "W_conv1 = tf.Variable(var[0], name = 'real1')\n",
    "b_conv1 = tf.Variable(var[1], name = 'real2')"
   ]
  },
  {
   "cell_type": "code",
   "execution_count": 28,
   "metadata": {
    "collapsed": false
   },
   "outputs": [
    {
     "data": {
      "text/plain": [
       "<bound method Tensor.get_shape of <tf.Tensor 'h1:0' shape=(?, 32, 32, 64) dtype=float32>>"
      ]
     },
     "execution_count": 28,
     "metadata": {},
     "output_type": "execute_result"
    }
   ],
   "source": [
    "h_conv1 = tf.nn.relu(conv2d(images, W_conv1) + b_conv1 , name = 'h1')\n",
    "h_pool1 = max_pool_2x2(h_conv1)\n",
    "h_conv1.get_shape"
   ]
  },
  {
   "cell_type": "code",
   "execution_count": 29,
   "metadata": {
    "collapsed": false
   },
   "outputs": [],
   "source": [
    "#W_conv1 = weight_variable([5, 5, 3, 64])\n",
    "#b_conv1 = bias_variable([64])"
   ]
  },
  {
   "cell_type": "code",
   "execution_count": 30,
   "metadata": {
    "collapsed": false
   },
   "outputs": [
    {
     "data": {
      "text/plain": [
       "<bound method Tensor.get_shape of <tf.Tensor 'MaxPool_3:0' shape=(?, 8, 8, 128) dtype=float32>>"
      ]
     },
     "execution_count": 30,
     "metadata": {},
     "output_type": "execute_result"
    }
   ],
   "source": [
    "#W_conv2 = weight_variable([5, 5, 64, 128])\n",
    "#b_conv2 = bias_variable([128])\n",
    "\n",
    "#W_conv2 = weight_variable([5, 5, 64, 64])\n",
    "#b_conv2 = bias_variable([64])\n",
    "\n",
    "W_conv2 = tf.Variable(var[2], name = 'real3')\n",
    "b_conv2 = tf.Variable(var[3], name = 'real4')\n",
    "\n",
    "h_conv2 = tf.nn.relu(conv2d(h_pool1, W_conv2) + b_conv2)\n",
    "h_pool2 = max_pool_2x2(h_conv2)\n",
    "h_pool2.get_shape"
   ]
  },
  {
   "cell_type": "code",
   "execution_count": 31,
   "metadata": {
    "collapsed": true
   },
   "outputs": [],
   "source": [
    "h_pool2_flat = tf.reshape(h_pool2, [-1, 8*8*128])"
   ]
  },
  {
   "cell_type": "code",
   "execution_count": 32,
   "metadata": {
    "collapsed": false
   },
   "outputs": [],
   "source": [
    "#W_fc1 = weight_variable([8 * 8 * 128, 3072])\n",
    "#b_fc1 = bias_variable([3072])\n",
    "\n",
    "W_fc1 = tf.Variable(var[4], name = 'real5')\n",
    "b_fc1 = tf.Variable(var[5], name = 'bias_b')\n",
    "\n",
    "h_pool2_flat = tf.reshape(h_pool2, [-1, 8 * 8 * 128])\n",
    "h_fc1 = tf.nn.relu(tf.matmul(h_pool2_flat, W_fc1) + b_fc1)"
   ]
  },
  {
   "cell_type": "code",
   "execution_count": 33,
   "metadata": {
    "collapsed": false
   },
   "outputs": [
    {
     "data": {
      "text/plain": [
       "<bound method Tensor.get_shape of <tf.Tensor 'Relu_4:0' shape=(?, 3072) dtype=float32>>"
      ]
     },
     "execution_count": 33,
     "metadata": {},
     "output_type": "execute_result"
    }
   ],
   "source": [
    "h_fc1.get_shape"
   ]
  },
  {
   "cell_type": "code",
   "execution_count": 34,
   "metadata": {
    "collapsed": false
   },
   "outputs": [],
   "source": [
    "keep_prob = 0.7\n",
    "h_fc1_drop = tf.nn.dropout(h_fc1, keep_prob)"
   ]
  },
  {
   "cell_type": "code",
   "execution_count": 35,
   "metadata": {
    "collapsed": false
   },
   "outputs": [],
   "source": [
    "#W_fc2 = weight_variable([3072, 10])\n",
    "#b_fc2 = bias_variable([10])\n",
    "\n",
    "\n",
    "W_fc2 = tf.Variable(var[6], name = 'w_fc2')\n",
    "b_fc2 = tf.Variable(var[7], name = 'bias_bfc2')\n",
    "\n",
    "y_conv = tf.matmul(h_fc1_drop, W_fc2) + b_fc2"
   ]
  },
  {
   "cell_type": "code",
   "execution_count": 36,
   "metadata": {
    "collapsed": false
   },
   "outputs": [
    {
     "data": {
      "text/plain": [
       "<bound method Tensor.get_shape of <tf.Tensor 'Placeholder:0' shape=(?, 10) dtype=float32>>"
      ]
     },
     "execution_count": 36,
     "metadata": {},
     "output_type": "execute_result"
    }
   ],
   "source": [
    "y_.get_shape"
   ]
  },
  {
   "cell_type": "code",
   "execution_count": 37,
   "metadata": {
    "collapsed": false
   },
   "outputs": [
    {
     "data": {
      "text/plain": [
       "<bound method Tensor.get_shape of <tf.Tensor 'add_12:0' shape=(?, 10) dtype=float32>>"
      ]
     },
     "execution_count": 37,
     "metadata": {},
     "output_type": "execute_result"
    }
   ],
   "source": [
    "y_conv.get_shape"
   ]
  },
  {
   "cell_type": "code",
   "execution_count": 38,
   "metadata": {
    "collapsed": false
   },
   "outputs": [],
   "source": [
    "real = tf.argmax(y_,1)"
   ]
  },
  {
   "cell_type": "code",
   "execution_count": 39,
   "metadata": {
    "collapsed": false
   },
   "outputs": [],
   "source": [
    "output = tf.argmax(y_conv,1)"
   ]
  },
  {
   "cell_type": "markdown",
   "metadata": {
    "collapsed": true
   },
   "source": [
    "## Convolutional Neural Network (a)."
   ]
  },
  {
   "cell_type": "code",
   "execution_count": 40,
   "metadata": {
    "collapsed": true
   },
   "outputs": [],
   "source": [
    "f = open('model.txt','r')"
   ]
  },
  {
   "cell_type": "code",
   "execution_count": 41,
   "metadata": {
    "collapsed": false
   },
   "outputs": [],
   "source": [
    "listr = [] \n",
    "for i in f.readlines():\n",
    "    listr.append(i.split('\\n')[0])"
   ]
  },
  {
   "cell_type": "code",
   "execution_count": 42,
   "metadata": {
    "collapsed": false
   },
   "outputs": [
    {
     "name": "stdout",
     "output_type": "stream",
     "text": [
      "Train Accuracy: 0.842\n",
      "Test Accuracy: 0.6183\n"
     ]
    }
   ],
   "source": [
    "# convert to error rate for plot\n",
    "train = [1-float(i) for i in listr[1:int((len(listr)-2)/2)]]\n",
    "test = [ 1-float(i) for i in listr[int((len(listr)-2)/2)+1:int((len(listr)-2))] ]\n",
    "\n",
    "# accuracy\n",
    "print('Train Accuracy:', 1-train[-1])\n",
    "print('Test Accuracy:', 1-test[-1])"
   ]
  },
  {
   "cell_type": "code",
   "execution_count": 43,
   "metadata": {
    "collapsed": true
   },
   "outputs": [],
   "source": [
    "def plot_train_test(train_list, test_list, title, y_words):\n",
    "    \n",
    "    train_epoches = np.arange(0, len(train_list))\n",
    "    fig = plt.figure()\n",
    "    \n",
    "    ax1 = fig.add_subplot(111)\n",
    "    ax1.plot(train_epoches, train_list, 'b', )\n",
    "    \n",
    "    ax2 = ax1.twinx()\n",
    "    ax2.plot(train_epoches, test_list, 'r', label = 'test')\n",
    "    \n",
    "    plt.xlabel('epoches')\n",
    "    plt.ylabel(y_words)\n",
    "    plt.title(title)\n",
    "    plt.legend()\n",
    "    plt.show()"
   ]
  },
  {
   "cell_type": "markdown",
   "metadata": {},
   "source": [
    "## Accuracy"
   ]
  },
  {
   "cell_type": "markdown",
   "metadata": {
    "collapsed": true
   },
   "source": [
    "<img src='cnn_acc.PNG'></img>"
   ]
  },
  {
   "cell_type": "code",
   "execution_count": 44,
   "metadata": {
    "collapsed": false
   },
   "outputs": [
    {
     "data": {
      "image/png": "[encoded data removed]",
      "text/plain": [
       "<matplotlib.figure.Figure at 0x13268d470>"
      ]
     },
     "metadata": {},
     "output_type": "display_data"
    }
   ],
   "source": [
    "plot_train_test(train, test, 'Cifar10 Convloution' , 'Error rate')"
   ]
  }
 ],
 "metadata": {
  "kernelspec": {
   "display_name": "Python 3",
   "language": "python",
   "name": "python3"
  },
  "language_info": {
   "codemirror_mode": {
    "name": "ipython",
    "version": 3
   },
   "file_extension": ".py",
   "mimetype": "text/x-python",
   "name": "python",
   "nbconvert_exporter": "python",
   "pygments_lexer": "ipython3",
   "version": "3.5.2"
  }
 },
 "nbformat": 4,
 "nbformat_minor": 1
}
